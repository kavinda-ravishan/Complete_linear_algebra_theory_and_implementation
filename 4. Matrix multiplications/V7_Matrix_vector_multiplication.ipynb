{
 "cells": [
  {
   "cell_type": "code",
   "execution_count": 1,
   "metadata": {},
   "outputs": [],
   "source": [
    "import numpy as np"
   ]
  },
  {
   "cell_type": "code",
   "execution_count": 2,
   "metadata": {},
   "outputs": [
    {
     "data": {
      "text/plain": [
       "array([-15.,  13.,  35.,  -4.])"
      ]
     },
     "execution_count": 2,
     "metadata": {},
     "output_type": "execute_result"
    }
   ],
   "source": [
    "\n",
    "# number of elements\n",
    "m = 4\n",
    "\n",
    "# create matrices\n",
    "N = np.round( 10*np.random.randn(m,m) )\n",
    "S = np.round( np.matrix.transpose(N)*N/m**2 ) # scaled symmetric\n",
    "\n",
    "# and vector\n",
    "w = np.array([-1, 0, 1, 2])\n",
    "\n",
    "# with symmetric matrix\n",
    "# NOTE: The @ symbol for matrix multiplication is relatively new to Python\n",
    "S@w    \n",
    "np.matrix.transpose(S@w) \n",
    "w@S    \n",
    "np.matrix.transpose(w)@np.matrix.transpose(S)  \n",
    "np.matrix.transpose(w)@S   \n",
    "\n",
    "\n",
    "# with nonsymmetric matrix\n",
    "N@w    \n",
    "np.matrix.transpose(N@w) \n",
    "w@N    \n",
    "np.matrix.transpose(w)@np.matrix.transpose(N)  \n",
    "np.matrix.transpose(w)@N   \n"
   ]
  }
 ],
 "metadata": {
  "interpreter": {
   "hash": "293c111297a61481508202fcd690d673b0775ece2d2d867b62b8842b676a9a30"
  },
  "kernelspec": {
   "display_name": "Python 3.8.5 64-bit ('base': conda)",
   "name": "python3"
  },
  "language_info": {
   "codemirror_mode": {
    "name": "ipython",
    "version": 3
   },
   "file_extension": ".py",
   "mimetype": "text/x-python",
   "name": "python",
   "nbconvert_exporter": "python",
   "pygments_lexer": "ipython3",
   "version": "3.8.5"
  },
  "orig_nbformat": 4
 },
 "nbformat": 4,
 "nbformat_minor": 2
}
