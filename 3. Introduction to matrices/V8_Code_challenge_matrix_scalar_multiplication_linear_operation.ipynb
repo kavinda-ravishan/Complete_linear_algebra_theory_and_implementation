{
 "cells": [
  {
   "cell_type": "code",
   "execution_count": 1,
   "source": [
    "import numpy as np"
   ],
   "outputs": [],
   "metadata": {}
  },
  {
   "cell_type": "markdown",
   "source": [
    "## My solution"
   ],
   "metadata": {}
  },
  {
   "cell_type": "code",
   "execution_count": 16,
   "source": [
    "M, N = 3, 2\r\n",
    "\r\n",
    "s = np.random.randint(-10,10,1)\r\n",
    "\r\n",
    "A = np.random.randint(-10, 10, (M,N))\r\n",
    "B = np.random.randint(-10, 10, (M,N))\r\n",
    "\r\n",
    "sAB = s*(A + B)\r\n",
    "sAsB = s*A + s*B\r\n",
    "\r\n",
    "print(sAB)\r\n",
    "print()\r\n",
    "print(sAsB)\r\n",
    "\r\n",
    "if np.sum(sAB == sAsB) == M*N:\r\n",
    "    print(\"s(A+B) is equal to sA+sB\")\r\n",
    "else:\r\n",
    "    print(\"s(A+B) is not equal to sA+sB\")"
   ],
   "outputs": [
    {
     "output_type": "stream",
     "name": "stdout",
     "text": [
      "[[ 56 -77]\n",
      " [ 42 -63]\n",
      " [ 21  21]]\n",
      "\n",
      "[[ 56 -77]\n",
      " [ 42 -63]\n",
      " [ 21  21]]\n",
      "s(A+B) is equal to sA+sB\n"
     ]
    }
   ],
   "metadata": {}
  },
  {
   "cell_type": "markdown",
   "source": [
    "## Course solution"
   ],
   "metadata": {}
  },
  {
   "cell_type": "code",
   "execution_count": 20,
   "source": [
    "M, N = 3, 2\r\n",
    "\r\n",
    "s = np.random.randn(1)\r\n",
    "\r\n",
    "A = np.random.randn(M,N)\r\n",
    "B = np.random.randn(M,N)\r\n",
    "\r\n",
    "sAB = s*(A + B)\r\n",
    "sAsB = s*A + s*B\r\n",
    "\r\n",
    "print(sAB)\r\n",
    "print()\r\n",
    "print(sAsB)\r\n",
    "print()\r\n",
    "print(sAB - sAsB)"
   ],
   "outputs": [
    {
     "output_type": "stream",
     "name": "stdout",
     "text": [
      "[[ 2.54339925 -6.7974371 ]\n",
      " [ 3.32705719 -2.01375479]\n",
      " [-2.26330055 -3.02786697]]\n",
      "\n",
      "[[ 2.54339925 -6.7974371 ]\n",
      " [ 3.32705719 -2.01375479]\n",
      " [-2.26330055 -3.02786697]]\n",
      "\n",
      "[[ 0.0000000e+00  0.0000000e+00]\n",
      " [ 4.4408921e-16  4.4408921e-16]\n",
      " [-4.4408921e-16  4.4408921e-16]]\n"
     ]
    }
   ],
   "metadata": {}
  }
 ],
 "metadata": {
  "orig_nbformat": 4,
  "language_info": {
   "name": "python",
   "version": "3.8.5",
   "mimetype": "text/x-python",
   "codemirror_mode": {
    "name": "ipython",
    "version": 3
   },
   "pygments_lexer": "ipython3",
   "nbconvert_exporter": "python",
   "file_extension": ".py"
  },
  "kernelspec": {
   "name": "python3",
   "display_name": "Python 3.8.5 64-bit ('base': conda)"
  },
  "interpreter": {
   "hash": "293c111297a61481508202fcd690d673b0775ece2d2d867b62b8842b676a9a30"
  }
 },
 "nbformat": 4,
 "nbformat_minor": 2
}