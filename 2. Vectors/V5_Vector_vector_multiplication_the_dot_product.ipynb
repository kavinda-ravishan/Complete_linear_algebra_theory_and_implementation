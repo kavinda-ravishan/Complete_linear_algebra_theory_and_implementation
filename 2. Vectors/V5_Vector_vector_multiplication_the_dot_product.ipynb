{
    "cells": [
        {
            "cell_type": "code",
            "execution_count": 2,
            "source": [
                "import numpy as np"
            ],
            "outputs": [],
            "metadata": {}
        },
        {
            "cell_type": "code",
            "execution_count": 6,
            "source": [
                "## many ways to compute the dot product\r\n",
                "\r\n",
                "v1 = np.array([ 1, 2, 3, 4, 5 ])\r\n",
                "v2 = np.array([ 0, -4,  -3, 6, 5 ])\r\n",
                "\r\n",
                "# method 1\r\n",
                "dp = sum( np.multiply(v1,v2) )\r\n",
                "print(f'method 1 : {dp}')\r\n",
                "\r\n",
                "# method 2\r\n",
                "dp = np.dot( v1,v2 )\r\n",
                "print(f'method 2 : {dp}')\r\n",
                "\r\n",
                "# method 3\r\n",
                "dp = np.matmul( v1,v2 )\r\n",
                "print(f'method 3 : {dp}')\r\n",
                "\r\n",
                "# method 4\r\n",
                "dp = 0  # initialize\r\n",
                "\r\n",
                "# loop over elements\r\n",
                "for i in range(0,len(v1)):\r\n",
                "    \r\n",
                "    # multiply corresponding element and sum\r\n",
                "    dp = dp + v1[i]*v2[i]\r\n",
                "\r\n",
                "print(f'method 4 : {dp}')"
            ],
            "outputs": [
                {
                    "output_type": "stream",
                    "name": "stdout",
                    "text": [
                        "method 1 : 32\n",
                        "method 2 : 32\n",
                        "method 3 : 32\n",
                        "method 4 : 32\n"
                    ]
                }
            ],
            "metadata": {}
        }
    ],
    "metadata": {
        "orig_nbformat": 4,
        "language_info": {
            "name": "python",
            "version": "3.9.5",
            "mimetype": "text/x-python",
            "codemirror_mode": {
                "name": "ipython",
                "version": 3
            },
            "pygments_lexer": "ipython3",
            "nbconvert_exporter": "python",
            "file_extension": ".py"
        },
        "kernelspec": {
            "name": "python3",
            "display_name": "Python 3.8.5 64-bit ('base': conda)"
        },
        "interpreter": {
            "hash": "293c111297a61481508202fcd690d673b0775ece2d2d867b62b8842b676a9a30"
        }
    },
    "nbformat": 4,
    "nbformat_minor": 2
}