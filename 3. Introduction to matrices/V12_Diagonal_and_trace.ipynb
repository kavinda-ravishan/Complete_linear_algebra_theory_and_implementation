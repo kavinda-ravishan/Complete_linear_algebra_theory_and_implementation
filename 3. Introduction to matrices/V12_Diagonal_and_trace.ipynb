{
 "cells": [
  {
   "cell_type": "code",
   "execution_count": 1,
   "source": [
    "import numpy as np"
   ],
   "outputs": [],
   "metadata": {}
  },
  {
   "cell_type": "code",
   "execution_count": 8,
   "source": [
    "\r\n",
    "M = np.round( 5*np.random.randn(4,4) )\r\n",
    "\r\n",
    "# extract the diagonals\r\n",
    "d = np.diag(M)\r\n",
    "\r\n",
    "# notice the two ways of using the diag function\r\n",
    "d = np.diag(M) # input is matrix, output is vector\r\n",
    "D = np.diag(d) # input is vector, output is matrix\r\n",
    "\r\n",
    "print(d)\r\n",
    "print()\r\n",
    "print(D)\r\n",
    "print()\r\n",
    "\r\n",
    "# trace as sum of diagonal elements\r\n",
    "tr = np.trace(M)\r\n",
    "tr2 = sum( np.diag(M) )\r\n",
    "\r\n",
    "print(tr)\r\n",
    "print()\r\n",
    "print(tr2)"
   ],
   "outputs": [
    {
     "output_type": "stream",
     "name": "stdout",
     "text": [
      "[ 0.  7. -3.  0.]\n",
      "\n",
      "[[ 0.  0.  0.  0.]\n",
      " [ 0.  7.  0.  0.]\n",
      " [ 0.  0. -3.  0.]\n",
      " [ 0.  0.  0.  0.]]\n",
      "\n",
      "4.0\n",
      "\n",
      "4.0\n"
     ]
    }
   ],
   "metadata": {}
  }
 ],
 "metadata": {
  "orig_nbformat": 4,
  "language_info": {
   "name": "python",
   "version": "3.8.5",
   "mimetype": "text/x-python",
   "codemirror_mode": {
    "name": "ipython",
    "version": 3
   },
   "pygments_lexer": "ipython3",
   "nbconvert_exporter": "python",
   "file_extension": ".py"
  },
  "kernelspec": {
   "name": "python3",
   "display_name": "Python 3.8.5 64-bit ('base': conda)"
  },
  "interpreter": {
   "hash": "293c111297a61481508202fcd690d673b0775ece2d2d867b62b8842b676a9a30"
  }
 },
 "nbformat": 4,
 "nbformat_minor": 2
}