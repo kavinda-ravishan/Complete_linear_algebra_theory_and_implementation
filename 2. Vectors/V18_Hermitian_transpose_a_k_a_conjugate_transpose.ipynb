{
 "cells": [
  {
   "cell_type": "code",
   "execution_count": 1,
   "source": [
    "import numpy as np"
   ],
   "outputs": [],
   "metadata": {}
  },
  {
   "cell_type": "code",
   "execution_count": 2,
   "source": [
    "# create a complex number\r\n",
    "z = np.complex(3,4)\r\n",
    "\r\n",
    "# magnitude\r\n",
    "print( np.linalg.norm(z) )\r\n",
    "\r\n",
    "# by transpose?\r\n",
    "print( np.transpose(z)*z )\r\n",
    "\r\n",
    "# by Hermitian transpose\r\n",
    "print( np.transpose(z.conjugate())*z )\r\n",
    "\r\n",
    "\r\n",
    "# complex vector\r\n",
    "v = np.array( [ 3, 4j, 5+2j, np.complex(2,-5) ] )\r\n",
    "print( v.T )\r\n",
    "print( np.transpose(v) )\r\n",
    "print( np.transpose(v.conjugate()) )"
   ],
   "outputs": [
    {
     "output_type": "stream",
     "name": "stdout",
     "text": [
      "5.0\n",
      "(-7+24j)\n",
      "(25+0j)\n",
      "[3.+0.j 0.+4.j 5.+2.j 2.-5.j]\n",
      "[3.+0.j 0.+4.j 5.+2.j 2.-5.j]\n",
      "[3.-0.j 0.-4.j 5.-2.j 2.+5.j]\n"
     ]
    }
   ],
   "metadata": {}
  }
 ],
 "metadata": {
  "orig_nbformat": 4,
  "language_info": {
   "name": "python",
   "version": "3.8.5",
   "mimetype": "text/x-python",
   "codemirror_mode": {
    "name": "ipython",
    "version": 3
   },
   "pygments_lexer": "ipython3",
   "nbconvert_exporter": "python",
   "file_extension": ".py"
  },
  "kernelspec": {
   "name": "python3",
   "display_name": "Python 3.8.5 64-bit ('base': conda)"
  },
  "interpreter": {
   "hash": "293c111297a61481508202fcd690d673b0775ece2d2d867b62b8842b676a9a30"
  }
 },
 "nbformat": 4,
 "nbformat_minor": 2
}