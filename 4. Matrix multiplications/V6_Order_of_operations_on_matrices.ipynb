{
 "cells": [
  {
   "cell_type": "code",
   "execution_count": 1,
   "metadata": {},
   "outputs": [],
   "source": [
    "import numpy as np"
   ]
  },
  {
   "cell_type": "code",
   "execution_count": 4,
   "metadata": {},
   "outputs": [
    {
     "data": {
      "text/plain": [
       "array([[-8.88178420e-16, -1.77635684e-15, -1.77635684e-15],\n",
       "       [-8.88178420e-16,  8.88178420e-16,  1.77635684e-15],\n",
       "       [ 8.88178420e-16,  0.00000000e+00,  3.55271368e-15]])"
      ]
     },
     "execution_count": 4,
     "metadata": {},
     "output_type": "execute_result"
    }
   ],
   "source": [
    "\n",
    "n = 3\n",
    "L = np.random.randn(n,n)\n",
    "I = np.random.randn(n,n)\n",
    "V = np.random.randn(n,n)\n",
    "E = np.random.randn(n,n)\n",
    "\n",
    "# result of \"forward\" multiplication and then transpose\n",
    "res1 = np.matrix.transpose( L @ I @ V @ E )\n",
    "\n",
    "# result of \"flipped\" multiplication of transposed matrices\n",
    "res2 = np.matrix.transpose(E) @ np.matrix.transpose(V) @ np.matrix.transpose(I) @ np.matrix.transpose(L)\n",
    "\n",
    "# test equality by subtracting (ignore possible computer rounding errors)\n",
    "res1-res2"
   ]
  }
 ],
 "metadata": {
  "interpreter": {
   "hash": "293c111297a61481508202fcd690d673b0775ece2d2d867b62b8842b676a9a30"
  },
  "kernelspec": {
   "display_name": "Python 3.8.5 64-bit ('base': conda)",
   "name": "python3"
  },
  "language_info": {
   "codemirror_mode": {
    "name": "ipython",
    "version": 3
   },
   "file_extension": ".py",
   "mimetype": "text/x-python",
   "name": "python",
   "nbconvert_exporter": "python",
   "pygments_lexer": "ipython3",
   "version": "3.8.5"
  },
  "orig_nbformat": 4
 },
 "nbformat": 4,
 "nbformat_minor": 2
}
