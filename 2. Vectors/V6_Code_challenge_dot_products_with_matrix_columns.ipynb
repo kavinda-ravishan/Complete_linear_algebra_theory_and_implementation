{
    "cells": [
        {
            "cell_type": "markdown",
            "source": [
                "# Import"
            ],
            "metadata": {}
        },
        {
            "cell_type": "code",
            "execution_count": 1,
            "source": [
                "import numpy as np"
            ],
            "outputs": [],
            "metadata": {}
        },
        {
            "cell_type": "markdown",
            "source": [
                "# My solution"
            ],
            "metadata": {}
        },
        {
            "cell_type": "code",
            "execution_count": 2,
            "source": [
                "# Two 4x6 matrices of random numbers\r\n",
                "m1 = np.floor(np.random.uniform(-10,10,size=(4,6))).astype(int)\r\n",
                "m2 = np.floor(np.random.uniform(-10,10,size=(4,6))).astype(int)\r\n",
                "\r\n",
                "#Dot product to compute corresponding columns\r\n",
                "ans1 = np.zeros(6)\r\n",
                "ans2 = np.zeros(6)\r\n",
                "\r\n",
                "for i in range(6):\r\n",
                "    for j in range(4):\r\n",
                "        ans1[i] = ans1[i] + m1[j,i]*m2[j,i]\r\n",
                "\r\n",
                "\r\n",
                "for i in range(6):\r\n",
                "    ans2[i] = np.sum(m1[:,i]*m2[:,i])\r\n",
                "\r\n",
                "ans1, ans2"
            ],
            "outputs": [
                {
                    "output_type": "execute_result",
                    "data": {
                        "text/plain": [
                            "(array([-29., -60.,  -7.,  -7., -41., 131.]),\n",
                            " array([-29., -60.,  -7.,  -7., -41., 131.]))"
                        ]
                    },
                    "metadata": {},
                    "execution_count": 2
                }
            ],
            "metadata": {}
        },
        {
            "cell_type": "markdown",
            "source": [
                "# Course solution"
            ],
            "metadata": {}
        },
        {
            "cell_type": "code",
            "execution_count": 3,
            "source": [
                "A = np.random.randn(4,6)\r\n",
                "B = np.random.randn(4,6)\r\n",
                "\r\n",
                "dps = np.zeros(np.size(A,1))\r\n",
                "\r\n",
                "for i in range(np.size(A,1)):\r\n",
                "    dps[i] = np.dot(A[:,i], B[:,i])\r\n",
                "\r\n",
                "dps"
            ],
            "outputs": [
                {
                    "output_type": "execute_result",
                    "data": {
                        "text/plain": [
                            "array([ 0.26560712, -0.75491299,  0.04664566,  0.48472876,  0.32544416,\n",
                            "        1.20187126])"
                        ]
                    },
                    "metadata": {},
                    "execution_count": 3
                }
            ],
            "metadata": {}
        }
    ],
    "metadata": {
        "orig_nbformat": 4,
        "language_info": {
            "name": "python",
            "version": "3.8.5"
        },
        "kernelspec": {
            "name": "python3",
            "display_name": "Python 3.8.5 64-bit ('base': conda)"
        },
        "interpreter": {
            "hash": "293c111297a61481508202fcd690d673b0775ece2d2d867b62b8842b676a9a30"
        }
    },
    "nbformat": 4,
    "nbformat_minor": 2
}