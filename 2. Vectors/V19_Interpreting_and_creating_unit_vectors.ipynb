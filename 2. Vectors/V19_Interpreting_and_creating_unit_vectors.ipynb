{
 "cells": [
  {
   "cell_type": "code",
   "execution_count": 2,
   "source": [
    "import numpy as np\r\n",
    "import matplotlib.pyplot as plt"
   ],
   "outputs": [],
   "metadata": {}
  },
  {
   "cell_type": "code",
   "execution_count": 3,
   "source": [
    "# vector\r\n",
    "v1 = np.array([ -3, 6 ])\r\n",
    "\r\n",
    "# mu\r\n",
    "mu = 1/np.linalg.norm(v1)\r\n",
    "\r\n",
    "v1n = v1*mu\r\n",
    "\r\n",
    "# plot them\r\n",
    "plt.plot([0, v1[0]],[0, v1[1]],'b',label='v1')\r\n",
    "h=plt.plot([0, v1n[0]],[0, v1n[1]],'r',label='v1-norm')\r\n",
    "plt.setp(h,linewidth=5)\r\n",
    "\r\n",
    "# axis square\r\n",
    "plt.axis('square')\r\n",
    "plt.axis(( -6, 6, -6, 6 ))\r\n",
    "plt.grid()\r\n",
    "plt.legend()\r\n",
    "plt.show()"
   ],
   "outputs": [
    {
     "output_type": "display_data",
     "data": {
      "image/png": "[encoded data removed]",
      "text/plain": [
       "<Figure size 432x288 with 1 Axes>"
      ]
     },
     "metadata": {
      "needs_background": "light"
     }
    }
   ],
   "metadata": {}
  }
 ],
 "metadata": {
  "orig_nbformat": 4,
  "language_info": {
   "name": "python",
   "version": "3.8.5",
   "mimetype": "text/x-python",
   "codemirror_mode": {
    "name": "ipython",
    "version": 3
   },
   "pygments_lexer": "ipython3",
   "nbconvert_exporter": "python",
   "file_extension": ".py"
  },
  "kernelspec": {
   "name": "python3",
   "display_name": "Python 3.8.5 64-bit ('base': conda)"
  },
  "interpreter": {
   "hash": "293c111297a61481508202fcd690d673b0775ece2d2d867b62b8842b676a9a30"
  }
 },
 "nbformat": 4,
 "nbformat_minor": 2
}