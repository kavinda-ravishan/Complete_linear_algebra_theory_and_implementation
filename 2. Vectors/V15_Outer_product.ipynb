{
 "cells": [
  {
   "cell_type": "code",
   "execution_count": 1,
   "source": [
    "import numpy as np"
   ],
   "outputs": [],
   "metadata": {}
  },
  {
   "cell_type": "code",
   "execution_count": 4,
   "source": [
    "\r\n",
    "v1 = np.array([  1, 2, 3 ])\r\n",
    "v2 = np.array([ -1, 0, 1 ])\r\n",
    "\r\n",
    "# outer product\r\n",
    "op = np.outer(v1,v2)\r\n",
    "print(op)\r\n",
    "\r\n",
    "# terrible programming, but helps conceptually:\r\n",
    "op = np.zeros((len(v1),len(v1)))\r\n",
    "for i in range(0,len(v1)):\r\n",
    "    for j in range(0,len(v2)):\r\n",
    "        op[i,j] = v1[i] * v2[j]\r\n",
    "\r\n",
    "print(op)"
   ],
   "outputs": [
    {
     "output_type": "stream",
     "name": "stdout",
     "text": [
      "[[-1  0  1]\n",
      " [-2  0  2]\n",
      " [-3  0  3]]\n",
      "[[-1.  0.  1.]\n",
      " [-2.  0.  2.]\n",
      " [-3.  0.  3.]]\n"
     ]
    }
   ],
   "metadata": {}
  }
 ],
 "metadata": {
  "orig_nbformat": 4,
  "language_info": {
   "name": "python",
   "version": "3.8.5",
   "mimetype": "text/x-python",
   "codemirror_mode": {
    "name": "ipython",
    "version": 3
   },
   "pygments_lexer": "ipython3",
   "nbconvert_exporter": "python",
   "file_extension": ".py"
  },
  "kernelspec": {
   "name": "python3",
   "display_name": "Python 3.8.5 64-bit"
  },
  "interpreter": {
   "hash": "293c111297a61481508202fcd690d673b0775ece2d2d867b62b8842b676a9a30"
  }
 },
 "nbformat": 4,
 "nbformat_minor": 2
}