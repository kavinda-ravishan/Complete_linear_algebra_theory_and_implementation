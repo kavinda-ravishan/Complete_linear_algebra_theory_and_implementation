{
 "cells": [
  {
   "cell_type": "markdown",
   "source": [
    "# Import"
   ],
   "metadata": {}
  },
  {
   "cell_type": "code",
   "execution_count": 1,
   "source": [
    "import numpy as np"
   ],
   "outputs": [],
   "metadata": {}
  },
  {
   "cell_type": "markdown",
   "source": [
    "# My solution"
   ],
   "metadata": {}
  },
  {
   "cell_type": "code",
   "execution_count": 2,
   "source": [
    "A = [1, 4, 5]\r\n",
    "B = [3, 1, 7]\r\n",
    "\r\n",
    "a = 2\r\n",
    "b = 3\r\n",
    "\r\n",
    "AdotB_1 = np.dot(A, B)\r\n",
    "AdotB_2 = np.dot(np.dot(a,A), np.dot(b,B))\r\n",
    "\r\n",
    "print(f'A.B = {AdotB_1}')\r\n",
    "print(f'({a} x A).({b} x B) = {AdotB_2}')\r\n",
    "print(f'({a} x {b})x(A.B) = {np.dot(a*b, AdotB_1)}')"
   ],
   "outputs": [
    {
     "output_type": "stream",
     "name": "stdout",
     "text": [
      "A.B = 42\n",
      "(2 x A).(3 x B) = 252\n",
      "(2 x 3)x(A.B) = 252\n"
     ]
    }
   ],
   "metadata": {}
  },
  {
   "cell_type": "markdown",
   "source": [
    "# Course solution"
   ],
   "metadata": {}
  },
  {
   "cell_type": "markdown",
   "source": [
    "## Part 1"
   ],
   "metadata": {}
  },
  {
   "cell_type": "code",
   "execution_count": 3,
   "source": [
    "v1 = [-3, 4,  5]\r\n",
    "v2 = [ 3, 6, -3]\r\n",
    "\r\n",
    "s1 = 2\r\n",
    "s2 = 3\r\n",
    "\r\n",
    "print(f'Original: {np.dot(v1, v2)}')\r\n",
    "print(f'Scaled: {np.dot(np.dot(s1, v1), np.dot(s2, v2))}')"
   ],
   "outputs": [
    {
     "output_type": "stream",
     "name": "stdout",
     "text": [
      "Original: 0\n",
      "Scaled: 0\n"
     ]
    }
   ],
   "metadata": {}
  },
  {
   "cell_type": "markdown",
   "source": [
    "## Part 2"
   ],
   "metadata": {}
  },
  {
   "cell_type": "code",
   "execution_count": 4,
   "source": [
    "v1 = [-3, 4,  6]\r\n",
    "v2 = [ 3, 6, -3]\r\n",
    "\r\n",
    "s1 = 2\r\n",
    "s2 = -3\r\n",
    "\r\n",
    "print(f'Original: {np.dot(v1, v2)}')\r\n",
    "print(f'Scaled: {np.dot(np.dot(s1, v1), np.dot(s2, v2))}')"
   ],
   "outputs": [
    {
     "output_type": "stream",
     "name": "stdout",
     "text": [
      "Original: -3\n",
      "Scaled: 18\n"
     ]
    }
   ],
   "metadata": {}
  }
 ],
 "metadata": {
  "orig_nbformat": 4,
  "language_info": {
   "name": "python",
   "version": "3.8.5",
   "mimetype": "text/x-python",
   "codemirror_mode": {
    "name": "ipython",
    "version": 3
   },
   "pygments_lexer": "ipython3",
   "nbconvert_exporter": "python",
   "file_extension": ".py"
  },
  "kernelspec": {
   "name": "python3",
   "display_name": "Python 3.8.5 64-bit ('base': conda)"
  },
  "interpreter": {
   "hash": "293c111297a61481508202fcd690d673b0775ece2d2d867b62b8842b676a9a30"
  }
 },
 "nbformat": 4,
 "nbformat_minor": 2
}