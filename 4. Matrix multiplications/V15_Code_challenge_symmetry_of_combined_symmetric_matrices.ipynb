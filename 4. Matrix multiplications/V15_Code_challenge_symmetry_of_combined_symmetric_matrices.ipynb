{
 "cells": [
  {
   "cell_type": "code",
   "execution_count": 1,
   "metadata": {},
   "outputs": [],
   "source": [
    "import numpy as np"
   ]
  },
  {
   "cell_type": "code",
   "execution_count": 13,
   "metadata": {},
   "outputs": [],
   "source": [
    "m = 3\n",
    "\n",
    "M1 = np.random.randn(m, m)\n",
    "M1 = M1 @ M1.T\n",
    "\n",
    "M2 = np.random.randn(m, m)\n",
    "M2 = M2 @ M2.T"
   ]
  },
  {
   "cell_type": "code",
   "execution_count": 19,
   "metadata": {},
   "outputs": [
    {
     "name": "stdout",
     "output_type": "stream",
     "text": [
      "M1 is a symmetric matrix.\n"
     ]
    }
   ],
   "source": [
    "if np.sum(M1 - M1.T) == 0:\n",
    "    print(\"M1 is a symmetric matrix.\")\n",
    "else:\n",
    "    print(\"M1 is not a symmetric matrix.\")"
   ]
  },
  {
   "cell_type": "code",
   "execution_count": 18,
   "metadata": {},
   "outputs": [
    {
     "name": "stdout",
     "output_type": "stream",
     "text": [
      "M2 is a symmetric matrix.\n"
     ]
    }
   ],
   "source": [
    "if np.sum(M2 - M2.T) == 0:\n",
    "    print(\"M2 is a symmetric matrix.\")\n",
    "else:\n",
    "    print(\"M2 is not a symmetric matrix.\")"
   ]
  },
  {
   "cell_type": "code",
   "execution_count": 20,
   "metadata": {},
   "outputs": [],
   "source": [
    "M1sM2 = M1 + M2\n",
    "M1mM2 = M1 @ M2\n",
    "M1hM2 = M1 * M2"
   ]
  },
  {
   "cell_type": "code",
   "execution_count": 22,
   "metadata": {},
   "outputs": [
    {
     "name": "stdout",
     "output_type": "stream",
     "text": [
      "[[0. 0. 0.]\n",
      " [0. 0. 0.]\n",
      " [0. 0. 0.]]\n",
      "[[  0.          -9.6736658   -2.82552552]\n",
      " [  9.6736658    0.         -11.60040684]\n",
      " [  2.82552552  11.60040684   0.        ]]\n",
      "[[0. 0. 0.]\n",
      " [0. 0. 0.]\n",
      " [0. 0. 0.]]\n"
     ]
    }
   ],
   "source": [
    "print(M1sM2 - M1sM2.T)\n",
    "print(M1mM2 - M1mM2.T)\n",
    "print(M1hM2 - M1hM2.T)"
   ]
  }
 ],
 "metadata": {
  "interpreter": {
   "hash": "293c111297a61481508202fcd690d673b0775ece2d2d867b62b8842b676a9a30"
  },
  "kernelspec": {
   "display_name": "Python 3.8.8 64-bit ('base': conda)",
   "name": "python3"
  },
  "language_info": {
   "codemirror_mode": {
    "name": "ipython",
    "version": 3
   },
   "file_extension": ".py",
   "mimetype": "text/x-python",
   "name": "python",
   "nbconvert_exporter": "python",
   "pygments_lexer": "ipython3",
   "version": "3.8.8"
  },
  "orig_nbformat": 4
 },
 "nbformat": 4,
 "nbformat_minor": 2
}
