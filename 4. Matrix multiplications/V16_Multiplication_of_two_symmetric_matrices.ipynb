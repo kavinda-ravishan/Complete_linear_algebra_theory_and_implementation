{
 "cells": [
  {
   "cell_type": "code",
   "execution_count": 1,
   "metadata": {},
   "outputs": [],
   "source": [
    "import numpy as np\n",
    "from sympy import symbols, Matrix\n",
    "from IPython.display import display"
   ]
  },
  {
   "cell_type": "code",
   "execution_count": 2,
   "metadata": {},
   "outputs": [
    {
     "data": {
      "text/latex": [
       "$\\displaystyle \\left[\\begin{matrix}0 & 0 & 0 & 0\\\\0 & 0 & 0 & 0\\\\0 & 0 & 0 & 0\\\\0 & 0 & 0 & 0\\end{matrix}\\right]$"
      ],
      "text/plain": [
       "Matrix([\n",
       "[0, 0, 0, 0],\n",
       "[0, 0, 0, 0],\n",
       "[0, 0, 0, 0],\n",
       "[0, 0, 0, 0]])"
      ]
     },
     "metadata": {},
     "output_type": "display_data"
    },
    {
     "data": {
      "text/latex": [
       "$\\displaystyle \\left[\\begin{matrix}0 & 0 & 0 & 0\\\\0 & 0 & 0 & 0\\\\0 & 0 & 0 & 0\\\\0 & 0 & 0 & 0\\end{matrix}\\right]$"
      ],
      "text/plain": [
       "Matrix([\n",
       "[0, 0, 0, 0],\n",
       "[0, 0, 0, 0],\n",
       "[0, 0, 0, 0],\n",
       "[0, 0, 0, 0]])"
      ]
     },
     "metadata": {},
     "output_type": "display_data"
    },
    {
     "name": "stdout",
     "output_type": "stream",
     "text": [
      "a\n",
      "a\n",
      "a\n",
      "a\n",
      "l\n",
      "l\n",
      "l\n",
      "l\n"
     ]
    }
   ],
   "source": [
    "a,b,c,d,e,f,g,h,k,l,m,n,o,p,q,r,s,t,u = symbols('a b c d e f g h k l m n o p q r s t u', real=True)\n",
    "\n",
    "# symmetric and constant-diagonal matrices\n",
    "A = Matrix([ [a,b,c,d],\n",
    "             [b,a,e,f],\n",
    "             [c,e,a,h],\n",
    "             [d,f,h,a]   ])\n",
    "\n",
    "B = Matrix([ [l,m,n,o],\n",
    "             [m,l,q,r],\n",
    "             [n,q,l,t],\n",
    "             [o,r,t,l]   ])\n",
    "\n",
    "\n",
    "# confirmation that A and B are symmetric\n",
    "display( A - A.transpose() )\n",
    "display( B - B.transpose() )\n",
    "\n",
    "# ... and constant diagonal\n",
    "for i in range(0,np.size(A,0)):\n",
    "    print( A[i,i] )\n",
    "for i in range(0,np.size(B,0)):\n",
    "    print( B[i,i] )\n"
   ]
  },
  {
   "cell_type": "code",
   "execution_count": 13,
   "metadata": {},
   "outputs": [
    {
     "data": {
      "text/latex": [
       "$\\displaystyle \\left[\\begin{matrix}0 & c q + d r - e n - f o & b q + d t - e m - h o & b r + c t - f m - h n\\\\- c q - d r + e n + f o & 0 & b n - c m + f t - h r & b o - d m + e t - h q\\\\- b q - d t + e m + h o & - b n + c m - f t + h r & 0 & c o - d n + e r - f q\\\\- b r - c t + f m + h n & - b o + d m - e t + h q & - c o + d n - e r + f q & 0\\end{matrix}\\right]$"
      ],
      "text/plain": [
       "Matrix([\n",
       "[                     0,  c*q + d*r - e*n - f*o,  b*q + d*t - e*m - h*o, b*r + c*t - f*m - h*n],\n",
       "[-c*q - d*r + e*n + f*o,                      0,  b*n - c*m + f*t - h*r, b*o - d*m + e*t - h*q],\n",
       "[-b*q - d*t + e*m + h*o, -b*n + c*m - f*t + h*r,                      0, c*o - d*n + e*r - f*q],\n",
       "[-b*r - c*t + f*m + h*n, -b*o + d*m - e*t + h*q, -c*o + d*n - e*r + f*q,                     0]])"
      ]
     },
     "execution_count": 13,
     "metadata": {},
     "output_type": "execute_result"
    }
   ],
   "source": [
    "# but AB neq (AB)'\n",
    "A@B - (A@B).T"
   ]
  },
  {
   "cell_type": "code",
   "execution_count": 14,
   "metadata": {},
   "outputs": [
    {
     "data": {
      "text/latex": [
       "$\\displaystyle \\left[\\begin{matrix}0 & 0\\\\0 & 0\\end{matrix}\\right]$"
      ],
      "text/plain": [
       "Matrix([\n",
       "[0, 0],\n",
       "[0, 0]])"
      ]
     },
     "execution_count": 14,
     "metadata": {},
     "output_type": "execute_result"
    }
   ],
   "source": [
    "# maybe for a submatrix?\n",
    "n = 2\n",
    "A1 = A[ 0:n,0:n ]\n",
    "B1 = B[ 0:n,0:n ]\n",
    "\n",
    "A1@B1 - (A1*B1).T"
   ]
  }
 ],
 "metadata": {
  "interpreter": {
   "hash": "293c111297a61481508202fcd690d673b0775ece2d2d867b62b8842b676a9a30"
  },
  "kernelspec": {
   "display_name": "Python 3.8.8 64-bit ('base': conda)",
   "name": "python3"
  },
  "language_info": {
   "codemirror_mode": {
    "name": "ipython",
    "version": 3
   },
   "file_extension": ".py",
   "mimetype": "text/x-python",
   "name": "python",
   "nbconvert_exporter": "python",
   "pygments_lexer": "ipython3",
   "version": "3.8.8"
  },
  "orig_nbformat": 4
 },
 "nbformat": 4,
 "nbformat_minor": 2
}
