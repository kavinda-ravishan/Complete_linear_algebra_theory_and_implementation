{
 "cells": [
  {
   "cell_type": "code",
   "execution_count": 1,
   "source": [
    "import numpy as np"
   ],
   "outputs": [],
   "metadata": {}
  },
  {
   "cell_type": "code",
   "execution_count": 8,
   "source": [
    "N = 3\r\n",
    "s = np.random.randn()*10\r\n",
    "A = np.random.randn(N,N)*10\r\n",
    "B = np.random.randn(N,N)*10\r\n",
    "\r\n",
    "print('trace(A+B) = %f, trace(A)+trace(B) = %f'% (np.trace(A+B), np.trace(A) + np.trace(B)))\r\n",
    "print('trace(s x A) = %f, s x trace(A) = %f' % (np.trace(s*A), s*np.trace(A)))"
   ],
   "outputs": [
    {
     "output_type": "stream",
     "name": "stdout",
     "text": [
      "trace(A+B) = -12.164360, trace(A)+trace(B) = -12.164360\n",
      "trace(s x A) = 33.283945, s x trace(A) = 33.283945\n"
     ]
    }
   ],
   "metadata": {}
  }
 ],
 "metadata": {
  "orig_nbformat": 4,
  "language_info": {
   "name": "python",
   "version": "3.8.5",
   "mimetype": "text/x-python",
   "codemirror_mode": {
    "name": "ipython",
    "version": 3
   },
   "pygments_lexer": "ipython3",
   "nbconvert_exporter": "python",
   "file_extension": ".py"
  },
  "kernelspec": {
   "name": "python3",
   "display_name": "Python 3.8.5 64-bit ('base': conda)"
  },
  "interpreter": {
   "hash": "293c111297a61481508202fcd690d673b0775ece2d2d867b62b8842b676a9a30"
  }
 },
 "nbformat": 4,
 "nbformat_minor": 2
}