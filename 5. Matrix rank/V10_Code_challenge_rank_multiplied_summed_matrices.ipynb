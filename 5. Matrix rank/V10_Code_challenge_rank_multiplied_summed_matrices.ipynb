{
 "cells": [
  {
   "cell_type": "code",
   "execution_count": 1,
   "metadata": {},
   "outputs": [],
   "source": [
    "import numpy as np"
   ]
  },
  {
   "cell_type": "code",
   "execution_count": null,
   "metadata": {},
   "outputs": [],
   "source": [
    "'''\n",
    "clc, clear, close all;\n",
    "\n",
    "m = 2;\n",
    "n = 5;\n",
    "\n",
    "A = rand(m, n); % 0 <= rank(A,2x5) <= min{2, 5} or >= 0 and <= 2\n",
    "B = rand(m, n); % 0 <= rank(B,2x5) <= min{2, 5} or >= 0 and <= 2\n",
    "\n",
    "% rank(A) = rank(AT*A) = rank(AT) = rank(A*AT)\n",
    "AtA = A'*A; % rank(AtA,5x5) = 2\n",
    "BtB = B'*B; % rank(BtB,5x5) = 2\n",
    "\n",
    "disp(['Rank(AtA) : ' num2str(rank(AtA))]);\n",
    "disp(['Rank(BtB) : ' num2str(rank(BtB))]);\n",
    "\n",
    "% rank(A+B) <= rank(A) + rank(B)\n",
    "% rank(A+B) <= min{rank(A), rank(B)}\n",
    "C = AtA * BtB; % rank(AtA * BtB) <= min{2, 2} or <= 2\n",
    "D = AtA + BtB; % rank(AtA + BtB) <= 2 + 2 or <= 4\n",
    "\n",
    "disp(['Rank(AtA * BtB) : ' num2str(rank(C))]);\n",
    "disp(['Rank(AtA + BtB) : ' num2str(rank(D))]);\n",
    "'''"
   ]
  },
  {
   "cell_type": "code",
   "execution_count": 2,
   "metadata": {},
   "outputs": [],
   "source": [
    "m = 2\n",
    "n = 5\n",
    "\n",
    "A = np.random.rand(m, n) # 0 <= rank(A,2x5) <= min{2, 5} or >= 0 and <= 2\n",
    "B = np.random.rand(m, n) # 0 <= rank(B,2x5) <= min{2, 5} or >= 0 and <= 2"
   ]
  },
  {
   "cell_type": "code",
   "execution_count": 3,
   "metadata": {},
   "outputs": [
    {
     "name": "stdout",
     "output_type": "stream",
     "text": [
      "Rank(AtA) : 2\n",
      "Rank(BtB) : 2\n"
     ]
    }
   ],
   "source": [
    "# rank(A) = rank(AT*A) = rank(AT) = rank(A*AT)\n",
    "AtA = A.T @ A # rank(AtA,5x5) = 2\n",
    "BtB = B.T @ B # rank(BtB,5x5) = 2\n",
    "\n",
    "print(f'Rank(AtA) : {np.linalg.matrix_rank(AtA)}')\n",
    "print(f'Rank(BtB) : {np.linalg.matrix_rank(BtB)}')"
   ]
  },
  {
   "cell_type": "code",
   "execution_count": 4,
   "metadata": {},
   "outputs": [
    {
     "name": "stdout",
     "output_type": "stream",
     "text": [
      "Rank(AtA * BtB) : 2\n",
      "Rank(AtA + BtB) : 4\n"
     ]
    }
   ],
   "source": [
    "# rank(A+B) <= rank(A) + rank(B)\n",
    "# rank(A+B) <= min{rank(A), rank(B)}\n",
    "C = AtA @ BtB # rank(AtA * BtB) <= min{2, 2} or <= 2\n",
    "D = AtA + BtB # rank(AtA + BtB) <= 2 + 2 or <= 4\n",
    "\n",
    "print(f'Rank(AtA * BtB) : {np.linalg.matrix_rank(C)}')\n",
    "print(f'Rank(AtA + BtB) : {np.linalg.matrix_rank(D)}')"
   ]
  }
 ],
 "metadata": {
  "interpreter": {
   "hash": "293c111297a61481508202fcd690d673b0775ece2d2d867b62b8842b676a9a30"
  },
  "kernelspec": {
   "display_name": "Python 3.8.8 64-bit ('base': conda)",
   "language": "python",
   "name": "python3"
  },
  "language_info": {
   "codemirror_mode": {
    "name": "ipython",
    "version": 3
   },
   "file_extension": ".py",
   "mimetype": "text/x-python",
   "name": "python",
   "nbconvert_exporter": "python",
   "pygments_lexer": "ipython3",
   "version": "3.8.8"
  },
  "orig_nbformat": 4
 },
 "nbformat": 4,
 "nbformat_minor": 2
}
