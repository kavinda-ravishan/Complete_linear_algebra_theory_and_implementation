{
 "cells": [
  {
   "cell_type": "code",
   "execution_count": 1,
   "source": [
    "import numpy as np"
   ],
   "outputs": [],
   "metadata": {}
  },
  {
   "cell_type": "code",
   "execution_count": 2,
   "source": [
    "# a vector\r\n",
    "v1 = np.array([ 1, 2, 3, 4, 5, 6, ])\r\n",
    "\r\n",
    "# methods 1-4, just like with the regular dot product, e.g.:\r\n",
    "vl1 = np.sqrt( sum( np.multiply(v1,v1)) )\r\n",
    "\r\n",
    "# method 5: take the norm\r\n",
    "vl2 = np.linalg.norm(v1)\r\n",
    "\r\n",
    "print(f'vl1 : {vl1}\\nvl2 : {vl2}')"
   ],
   "outputs": [
    {
     "output_type": "stream",
     "name": "stdout",
     "text": [
      "vl1 : 9.539392014169456\n",
      "vl2 : 9.539392014169456\n"
     ]
    }
   ],
   "metadata": {}
  }
 ],
 "metadata": {
  "orig_nbformat": 4,
  "language_info": {
   "name": "python",
   "version": "3.8.5",
   "mimetype": "text/x-python",
   "codemirror_mode": {
    "name": "ipython",
    "version": 3
   },
   "pygments_lexer": "ipython3",
   "nbconvert_exporter": "python",
   "file_extension": ".py"
  },
  "kernelspec": {
   "name": "python3",
   "display_name": "Python 3.8.5 64-bit ('base': conda)"
  },
  "interpreter": {
   "hash": "293c111297a61481508202fcd690d673b0775ece2d2d867b62b8842b676a9a30"
  }
 },
 "nbformat": 4,
 "nbformat_minor": 2
}