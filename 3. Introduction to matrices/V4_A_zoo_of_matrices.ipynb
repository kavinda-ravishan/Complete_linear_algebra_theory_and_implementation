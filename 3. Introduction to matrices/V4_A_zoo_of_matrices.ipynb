{
 "cells": [
  {
   "cell_type": "code",
   "execution_count": 1,
   "source": [
    "import numpy as np"
   ],
   "outputs": [],
   "metadata": {}
  },
  {
   "cell_type": "code",
   "execution_count": 10,
   "source": [
    "# square vs. rectangular\r\n",
    "S = np.random.randn(3,3)\r\n",
    "R = np.random.randn(3,2) # 5 rows, 2 columns\r\n",
    "print(S)\r\n",
    "print('')\r\n",
    "print(R)"
   ],
   "outputs": [
    {
     "output_type": "stream",
     "name": "stdout",
     "text": [
      "[[ 0.73087536 -0.36856748  1.18069384]\n",
      " [ 1.56143294 -0.8075863   0.05648548]\n",
      " [-1.0859959  -1.13709918 -1.90218103]]\n",
      "\n",
      "[[ 0.14633733 -2.47807732]\n",
      " [ 1.42563339 -0.29700109]\n",
      " [-0.44649575 -0.29717529]]\n"
     ]
    }
   ],
   "metadata": {}
  },
  {
   "cell_type": "code",
   "execution_count": 3,
   "source": [
    "# identity\r\n",
    "I = np.eye(3)\r\n",
    "print(I)"
   ],
   "outputs": [
    {
     "output_type": "stream",
     "name": "stdout",
     "text": [
      "[[1. 0. 0.]\n",
      " [0. 1. 0.]\n",
      " [0. 0. 1.]]\n"
     ]
    }
   ],
   "metadata": {}
  },
  {
   "cell_type": "code",
   "execution_count": 4,
   "source": [
    "# zeros\r\n",
    "Z = np.zeros((4,4))\r\n",
    "print(Z)"
   ],
   "outputs": [
    {
     "output_type": "stream",
     "name": "stdout",
     "text": [
      "[[0. 0. 0. 0.]\n",
      " [0. 0. 0. 0.]\n",
      " [0. 0. 0. 0.]\n",
      " [0. 0. 0. 0.]]\n"
     ]
    }
   ],
   "metadata": {}
  },
  {
   "cell_type": "code",
   "execution_count": 5,
   "source": [
    "# diagonal\r\n",
    "D = np.diag([ 1, 2, 3, 5, 2 ])\r\n",
    "print(D)"
   ],
   "outputs": [
    {
     "output_type": "stream",
     "name": "stdout",
     "text": [
      "[[1 0 0 0 0]\n",
      " [0 2 0 0 0]\n",
      " [0 0 3 0 0]\n",
      " [0 0 0 5 0]\n",
      " [0 0 0 0 2]]\n"
     ]
    }
   ],
   "metadata": {}
  },
  {
   "cell_type": "code",
   "execution_count": 12,
   "source": [
    "# Extract diadonal elements\r\n",
    "D_vec = np.diag(D)\r\n",
    "print(D_vec)"
   ],
   "outputs": [
    {
     "output_type": "stream",
     "name": "stdout",
     "text": [
      "[1 2 3 5 2]\n"
     ]
    }
   ],
   "metadata": {}
  },
  {
   "cell_type": "code",
   "execution_count": 14,
   "source": [
    "# create triangular matrix from full matrices\r\n",
    "S = np.random.randn(5,5)\r\n",
    "U = np.triu(S)\r\n",
    "L = np.tril(S)\r\n",
    "print(U)\r\n",
    "print('')\r\n",
    "print(L)"
   ],
   "outputs": [
    {
     "output_type": "stream",
     "name": "stdout",
     "text": [
      "[[-0.75314163 -1.29312556  1.10540394  0.11339644 -0.18913071]\n",
      " [ 0.          0.13561009 -0.19325962  0.01208004  2.04961443]\n",
      " [ 0.          0.          0.7172417   0.3893882  -0.65536171]\n",
      " [ 0.          0.          0.          1.0682408  -0.86859316]\n",
      " [ 0.          0.          0.          0.          1.35412575]]\n",
      "\n",
      "[[-0.75314163  0.          0.          0.          0.        ]\n",
      " [ 0.31169619  0.13561009  0.          0.          0.        ]\n",
      " [ 0.71007928 -0.51254049  0.7172417   0.          0.        ]\n",
      " [ 1.79942681  1.21108586  0.92595698  1.0682408   0.        ]\n",
      " [ 0.04899766 -0.59184358 -1.90803938  0.58807838  1.35412575]]\n"
     ]
    }
   ],
   "metadata": {}
  },
  {
   "cell_type": "code",
   "execution_count": 7,
   "source": [
    "# concatenate matrices (sizes must match!)\r\n",
    "A = np.random.randn(3,2)\r\n",
    "B = np.random.randn(3,4)\r\n",
    "C = np.concatenate((A,B),axis=1)\r\n",
    "print(C)"
   ],
   "outputs": [
    {
     "output_type": "stream",
     "name": "stdout",
     "text": [
      "[[-0.25691315 -1.63314924 -0.5945582  -0.23138909  1.51846735  1.00080379]\n",
      " [-0.86197065 -0.78136553  0.49940909 -0.10563009  1.46602037  0.13252572]\n",
      " [-0.36244385 -0.31076063  1.09041569  1.27835894 -0.90300508  1.88208083]]\n"
     ]
    }
   ],
   "metadata": {}
  }
 ],
 "metadata": {
  "orig_nbformat": 4,
  "language_info": {
   "name": "python",
   "version": "3.8.5",
   "mimetype": "text/x-python",
   "codemirror_mode": {
    "name": "ipython",
    "version": 3
   },
   "pygments_lexer": "ipython3",
   "nbconvert_exporter": "python",
   "file_extension": ".py"
  },
  "kernelspec": {
   "name": "python3",
   "display_name": "Python 3.8.5 64-bit ('base': conda)"
  },
  "interpreter": {
   "hash": "293c111297a61481508202fcd690d673b0775ece2d2d867b62b8842b676a9a30"
  }
 },
 "nbformat": 4,
 "nbformat_minor": 2
}