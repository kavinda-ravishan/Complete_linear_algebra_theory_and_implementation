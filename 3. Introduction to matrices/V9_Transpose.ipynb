{
 "cells": [
  {
   "cell_type": "code",
   "execution_count": 1,
   "source": [
    "import numpy as np"
   ],
   "outputs": [],
   "metadata": {}
  },
  {
   "cell_type": "code",
   "execution_count": 11,
   "source": [
    "M = np.array(\r\n",
    "    [\r\n",
    "        [1, 2, 3],\r\n",
    "        [4, 5, 6]\r\n",
    "    ]\r\n",
    ")\r\n",
    "\r\n",
    "print(M.T, end='\\n\\n')\r\n",
    "print(M.T.T)"
   ],
   "outputs": [
    {
     "output_type": "stream",
     "name": "stdout",
     "text": [
      "[[1 4]\n",
      " [2 5]\n",
      " [3 6]]\n",
      "\n",
      "[[1 2 3]\n",
      " [4 5 6]]\n"
     ]
    }
   ],
   "metadata": {}
  },
  {
   "cell_type": "code",
   "execution_count": 32,
   "source": [
    "C = np.array(\r\n",
    "    [\r\n",
    "        [ np.complex(4, 1), 3, np.complex(2, -4)]\r\n",
    "    ]\r\n",
    ")\r\n",
    "\r\n",
    "print(C, end='\\n\\n')\r\n",
    "print(C.T, end='\\n\\n') # normal transpose\r\n",
    "print(np.transpose(C), end='\\n\\n') # normal transpose\r\n",
    "print(C.conj().T) # Hermitian transpose( sign of the complex part flip )"
   ],
   "outputs": [
    {
     "output_type": "stream",
     "name": "stdout",
     "text": [
      "[[4.+1.j 3.+0.j 2.-4.j]]\n",
      "\n",
      "[[4.+1.j]\n",
      " [3.+0.j]\n",
      " [2.-4.j]]\n",
      "\n",
      "[[4.+1.j]\n",
      " [3.+0.j]\n",
      " [2.-4.j]]\n",
      "\n",
      "[[4.-1.j]\n",
      " [3.-0.j]\n",
      " [2.+4.j]]\n"
     ]
    }
   ],
   "metadata": {}
  }
 ],
 "metadata": {
  "orig_nbformat": 4,
  "language_info": {
   "name": "python",
   "version": "3.8.5",
   "mimetype": "text/x-python",
   "codemirror_mode": {
    "name": "ipython",
    "version": 3
   },
   "pygments_lexer": "ipython3",
   "nbconvert_exporter": "python",
   "file_extension": ".py"
  },
  "kernelspec": {
   "name": "python3",
   "display_name": "Python 3.8.5 64-bit ('base': conda)"
  },
  "interpreter": {
   "hash": "293c111297a61481508202fcd690d673b0775ece2d2d867b62b8842b676a9a30"
  }
 },
 "nbformat": 4,
 "nbformat_minor": 2
}