{
 "cells": [
  {
   "cell_type": "code",
   "execution_count": 19,
   "metadata": {},
   "outputs": [],
   "source": [
    "import numpy as np"
   ]
  },
  {
   "cell_type": "code",
   "execution_count": 22,
   "metadata": {},
   "outputs": [
    {
     "name": "stdout",
     "output_type": "stream",
     "text": [
      "[[-0.59874794 -1.19772612  2.56219608 -1.86329341]\n",
      " [ 0.82160384 -0.6213755   0.468481    0.07166996]\n",
      " [-0.00905104  0.39649765 -0.51883249 -0.59727455]\n",
      " [ 0.51463489 -0.26789534  0.19499411  1.32349414]]\n",
      "\n",
      "[[ 0.10942353  0.          0.          0.        ]\n",
      " [ 0.         -2.00909748  0.          0.        ]\n",
      " [ 0.          0.          0.38525038  0.        ]\n",
      " [ 0.          0.          0.         -1.11665825]]\n"
     ]
    }
   ],
   "source": [
    "m = 4\n",
    "\n",
    "A = np.random.randn(m, m)\n",
    "B = np.diag(np.random.randn(m))\n",
    "\n",
    "print(A, end='\\n\\n')\n",
    "print(B)"
   ]
  },
  {
   "cell_type": "code",
   "execution_count": 23,
   "metadata": {},
   "outputs": [
    {
     "data": {
      "text/plain": [
       "array([[3.58499092e-01, 1.43454786e+00, 6.56484877e+00, 3.47186232e+00],\n",
       "       [6.75032869e-01, 3.86107513e-01, 2.19474451e-01, 5.13658331e-03],\n",
       "       [8.19213784e-05, 1.57210387e-01, 2.69187151e-01, 3.56736882e-01],\n",
       "       [2.64849072e-01, 7.17679120e-02, 3.80227026e-02, 1.75163675e+00]])"
      ]
     },
     "execution_count": 23,
     "metadata": {},
     "output_type": "execute_result"
    }
   ],
   "source": [
    "A*A"
   ]
  },
  {
   "cell_type": "code",
   "execution_count": 24,
   "metadata": {},
   "outputs": [
    {
     "data": {
      "text/plain": [
       "array([[-1.60766363,  2.97644605, -3.78790336, -2.96659031],\n",
       "       [-0.96981448, -0.4313973 ,  1.58491958, -1.76037998],\n",
       "       [ 0.02850094, -0.28124205,  0.3152832 , -0.4353222 ],\n",
       "       [ 0.15111095, -0.72717126,  1.34999591,  0.65705588]])"
      ]
     },
     "execution_count": 24,
     "metadata": {},
     "output_type": "execute_result"
    }
   ],
   "source": [
    "A@A"
   ]
  },
  {
   "cell_type": "code",
   "execution_count": 25,
   "metadata": {},
   "outputs": [
    {
     "data": {
      "text/plain": [
       "array([[0.01197351, 0.        , 0.        , 0.        ],\n",
       "       [0.        , 4.03647267, 0.        , 0.        ],\n",
       "       [0.        , 0.        , 0.14841786, 0.        ],\n",
       "       [0.        , 0.        , 0.        , 1.24692565]])"
      ]
     },
     "execution_count": 25,
     "metadata": {},
     "output_type": "execute_result"
    }
   ],
   "source": [
    "B*B"
   ]
  },
  {
   "cell_type": "code",
   "execution_count": 26,
   "metadata": {},
   "outputs": [
    {
     "data": {
      "text/plain": [
       "array([[0.01197351, 0.        , 0.        , 0.        ],\n",
       "       [0.        , 4.03647267, 0.        , 0.        ],\n",
       "       [0.        , 0.        , 0.14841786, 0.        ],\n",
       "       [0.        , 0.        , 0.        , 1.24692565]])"
      ]
     },
     "execution_count": 26,
     "metadata": {},
     "output_type": "execute_result"
    }
   ],
   "source": [
    "B@B"
   ]
  },
  {
   "cell_type": "code",
   "execution_count": 27,
   "metadata": {},
   "outputs": [
    {
     "data": {
      "text/plain": [
       "array([[0., 0., 0., 0.],\n",
       "       [0., 0., 0., 0.],\n",
       "       [0., 0., 0., 0.],\n",
       "       [0., 0., 0., 0.]])"
      ]
     },
     "execution_count": 27,
     "metadata": {},
     "output_type": "execute_result"
    }
   ],
   "source": [
    "B*B - B@B "
   ]
  }
 ],
 "metadata": {
  "interpreter": {
   "hash": "293c111297a61481508202fcd690d673b0775ece2d2d867b62b8842b676a9a30"
  },
  "kernelspec": {
   "display_name": "Python 3.8.8 64-bit ('base': conda)",
   "name": "python3"
  },
  "language_info": {
   "codemirror_mode": {
    "name": "ipython",
    "version": 3
   },
   "file_extension": ".py",
   "mimetype": "text/x-python",
   "name": "python",
   "nbconvert_exporter": "python",
   "pygments_lexer": "ipython3",
   "version": "3.8.8"
  },
  "orig_nbformat": 4
 },
 "nbformat": 4,
 "nbformat_minor": 2
}
