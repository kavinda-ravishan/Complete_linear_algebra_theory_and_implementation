{
 "cells": [
  {
   "cell_type": "code",
   "execution_count": 1,
   "source": [
    "import numpy as np"
   ],
   "outputs": [],
   "metadata": {}
  },
  {
   "cell_type": "code",
   "execution_count": 8,
   "source": [
    "## rules for multiplication validity\r\n",
    "\r\n",
    "m = 4\r\n",
    "n = 3\r\n",
    "k = 6\r\n",
    "\r\n",
    "# make some matrices\r\n",
    "A = np.random.randn(m,n)\r\n",
    "B = np.random.randn(n,k)\r\n",
    "C = np.random.randn(m,k)\r\n",
    "\r\n",
    "# test which multiplications are valid.\r\n",
    "# Think of your answer first, then test.\r\n",
    "print(np.matmul(A,B).shape)\r\n",
    "# np.matmul(A,A)\r\n",
    "print(np.matmul(np.matrix.transpose(A),C).shape)\r\n",
    "print(np.matmul(B,np.matrix.transpose(B)).shape)\r\n",
    "print(np.matmul(np.matrix.transpose(B),B).shape)\r\n",
    "# np.matmul(B,C)\r\n",
    "# np.matmul(C,B)\r\n",
    "# np.matmul(np.matrix.transpose(C),B)\r\n",
    "print(np.matmul(C,np.matrix.transpose(B)).shape)"
   ],
   "outputs": [
    {
     "output_type": "stream",
     "name": "stdout",
     "text": [
      "(4, 6)\n",
      "(3, 6)\n",
      "(3, 3)\n",
      "(6, 6)\n",
      "(4, 3)\n"
     ]
    }
   ],
   "metadata": {}
  }
 ],
 "metadata": {
  "orig_nbformat": 4,
  "language_info": {
   "name": "python",
   "version": "3.8.5",
   "mimetype": "text/x-python",
   "codemirror_mode": {
    "name": "ipython",
    "version": 3
   },
   "pygments_lexer": "ipython3",
   "nbconvert_exporter": "python",
   "file_extension": ".py"
  },
  "kernelspec": {
   "name": "python3",
   "display_name": "Python 3.8.5 64-bit ('base': conda)"
  },
  "interpreter": {
   "hash": "293c111297a61481508202fcd690d673b0775ece2d2d867b62b8842b676a9a30"
  }
 },
 "nbformat": 4,
 "nbformat_minor": 2
}