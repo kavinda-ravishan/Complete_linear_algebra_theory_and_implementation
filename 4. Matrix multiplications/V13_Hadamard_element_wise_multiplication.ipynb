{
 "cells": [
  {
   "cell_type": "code",
   "execution_count": 1,
   "metadata": {},
   "outputs": [],
   "source": [
    "import numpy as np"
   ]
  },
  {
   "cell_type": "code",
   "execution_count": 2,
   "metadata": {},
   "outputs": [
    {
     "name": "stdout",
     "output_type": "stream",
     "text": [
      "[[-0.02645993  0.52984146]\n",
      " [ 2.45207079  2.36345106]\n",
      " [-0.16872951 -0.13906   ]\n",
      " [ 0.09101647  0.35853469]\n",
      " [-0.44051287 -1.98862184]\n",
      " [-0.45427199  0.02564634]\n",
      " [-0.32535992 -1.17289009]\n",
      " [-1.67967881 -0.59602028]\n",
      " [-1.66397084  0.25185305]\n",
      " [ 0.1016288   0.04063435]\n",
      " [-1.97039531  0.24963988]\n",
      " [-0.08796636  0.07537993]\n",
      " [-1.26453674  1.15400932]]\n"
     ]
    }
   ],
   "source": [
    "# any matrix sizes\n",
    "m = 13\n",
    "n =  2\n",
    "\n",
    "# ...but the two matrices must be the same size\n",
    "A = np.random.randn(m,n)\n",
    "B = np.random.randn(m,n)\n",
    "\n",
    "# note the different syntax compared to @ for matrix multiplication\n",
    "C = np.multiply( A,B )\n",
    "\n",
    "print(C)\n"
   ]
  }
 ],
 "metadata": {
  "interpreter": {
   "hash": "293c111297a61481508202fcd690d673b0775ece2d2d867b62b8842b676a9a30"
  },
  "kernelspec": {
   "display_name": "Python 3.8.8 64-bit ('base': conda)",
   "name": "python3"
  },
  "language_info": {
   "codemirror_mode": {
    "name": "ipython",
    "version": 3
   },
   "file_extension": ".py",
   "mimetype": "text/x-python",
   "name": "python",
   "nbconvert_exporter": "python",
   "pygments_lexer": "ipython3",
   "version": "3.8.8"
  },
  "orig_nbformat": 4
 },
 "nbformat": 4,
 "nbformat_minor": 2
}
