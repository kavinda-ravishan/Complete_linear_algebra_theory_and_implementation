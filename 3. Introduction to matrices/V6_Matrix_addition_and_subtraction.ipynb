{
 "cells": [
  {
   "cell_type": "code",
   "execution_count": 2,
   "source": [
    "import numpy as np"
   ],
   "outputs": [],
   "metadata": {}
  },
  {
   "cell_type": "code",
   "execution_count": 5,
   "source": [
    "\r\n",
    "# create random matrices\r\n",
    "A = np.random.randn(5,4)\r\n",
    "B = np.random.randn(5,4)\r\n",
    "C = np.random.randn(5,4)\r\n",
    "\r\n",
    "# try to add them\r\n",
    "print(A+B)\r\n",
    "print(A+C)"
   ],
   "outputs": [
    {
     "output_type": "stream",
     "name": "stdout",
     "text": [
      "[[ 0.92059049 -2.13279298  0.70736533  0.34476837]\n",
      " [ 0.29288599 -0.49129921  3.41252501  1.04766483]\n",
      " [-1.34883515  0.27519824  0.03895976  0.7886062 ]\n",
      " [ 2.13300796 -1.34822662 -1.19623517  2.06603711]\n",
      " [-1.72672529 -0.9781296  -0.60089551  3.50800616]]\n",
      "[[ 1.59751981 -1.24006746 -0.57695386 -1.16850628]\n",
      " [ 0.52241607  0.3126001   3.03876782  1.90107452]\n",
      " [ 0.20292563  1.26236355 -0.60147217  0.09440214]\n",
      " [ 1.98589135 -1.00257921  1.79433159  1.46851883]\n",
      " [-1.3261199   0.17547011  1.71122379  1.23963107]]\n"
     ]
    }
   ],
   "metadata": {}
  },
  {
   "cell_type": "code",
   "execution_count": 9,
   "source": [
    "# \"shifting\" a matrix\r\n",
    "l = .3 # lambda\r\n",
    "N = 3  # size of square matrix\r\n",
    "D = np.random.randn(N,N) # can only shift a square matrix\r\n",
    "\r\n",
    "Ds = D + l*np.eye(N)\r\n",
    "print(np.concatenate((D, Ds), axis=1))"
   ],
   "outputs": [
    {
     "output_type": "stream",
     "name": "stdout",
     "text": [
      "[[ 1.95048592  2.33116035  1.25384412  2.25048592  2.33116035  1.25384412]\n",
      " [-1.51484287  0.10721748 -2.32192866 -1.51484287  0.40721748 -2.32192866]\n",
      " [-0.96921088 -0.3676867   1.10267732 -0.96921088 -0.3676867   1.40267732]]\n"
     ]
    }
   ],
   "metadata": {}
  }
 ],
 "metadata": {
  "orig_nbformat": 4,
  "language_info": {
   "name": "python",
   "version": "3.8.5",
   "mimetype": "text/x-python",
   "codemirror_mode": {
    "name": "ipython",
    "version": 3
   },
   "pygments_lexer": "ipython3",
   "nbconvert_exporter": "python",
   "file_extension": ".py"
  },
  "kernelspec": {
   "name": "python3",
   "display_name": "Python 3.8.5 64-bit ('base': conda)"
  },
  "interpreter": {
   "hash": "293c111297a61481508202fcd690d673b0775ece2d2d867b62b8842b676a9a30"
  }
 },
 "nbformat": 4,
 "nbformat_minor": 2
}