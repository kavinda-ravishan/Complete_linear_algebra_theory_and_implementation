{
 "cells": [
  {
   "cell_type": "code",
   "execution_count": 1,
   "metadata": {},
   "outputs": [],
   "source": [
    "import numpy as np"
   ]
  },
  {
   "cell_type": "code",
   "execution_count": 16,
   "metadata": {},
   "outputs": [],
   "source": [
    "m = 6\n",
    "n = m\n",
    "F = np.random.randn(m, n) @ np.random.randn(n, n)\n",
    "R = np.random.randn(m, n-1) @ np.random.randn(n-1, n)"
   ]
  },
  {
   "cell_type": "code",
   "execution_count": 20,
   "metadata": {},
   "outputs": [
    {
     "name": "stdout",
     "output_type": "stream",
     "text": [
      "Rank of F(6, 6) : 6\n",
      "Rank of R(6, 6) : 5\n"
     ]
    }
   ],
   "source": [
    "print('Rank of F(%i, %i) : %i' %(F.shape[0], F.shape[1], np.linalg.matrix_rank(F)))\n",
    "print('Rank of R(%i, %i) : %i' %(F.shape[0], F.shape[1], np.linalg.matrix_rank(R)))"
   ]
  },
  {
   "cell_type": "code",
   "execution_count": 30,
   "metadata": {},
   "outputs": [
    {
     "name": "stdout",
     "output_type": "stream",
     "text": [
      "Scaler : 0\n",
      "Rank of l*F : 0\n",
      "Rank of l*R : 0\n"
     ]
    }
   ],
   "source": [
    "l = np.random.randint(1e9)\n",
    "#l = 0\n",
    "\n",
    "print('Scaler : %i' %(l))\n",
    "\n",
    "print('Rank of l*F : %i' %(np.linalg.matrix_rank(l*F)))\n",
    "print('Rank of l*R : %i' %(np.linalg.matrix_rank(l*R)))"
   ]
  }
 ],
 "metadata": {
  "interpreter": {
   "hash": "293c111297a61481508202fcd690d673b0775ece2d2d867b62b8842b676a9a30"
  },
  "kernelspec": {
   "display_name": "Python 3.8.8 64-bit ('base': conda)",
   "language": "python",
   "name": "python3"
  },
  "language_info": {
   "codemirror_mode": {
    "name": "ipython",
    "version": 3
   },
   "file_extension": ".py",
   "mimetype": "text/x-python",
   "name": "python",
   "nbconvert_exporter": "python",
   "pygments_lexer": "ipython3",
   "version": "3.8.8"
  },
  "orig_nbformat": 4
 },
 "nbformat": 4,
 "nbformat_minor": 2
}
