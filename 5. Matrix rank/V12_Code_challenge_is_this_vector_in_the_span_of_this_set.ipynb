{
 "cells": [
  {
   "cell_type": "code",
   "execution_count": 1,
   "metadata": {},
   "outputs": [],
   "source": [
    "import numpy as np"
   ]
  },
  {
   "cell_type": "code",
   "execution_count": 8,
   "metadata": {},
   "outputs": [],
   "source": [
    "v = np.array([[1, 2, 3, 4]]).T\n",
    "\n",
    "S = np.array([\n",
    "    [4, 3, 6, 2],\n",
    "    [0, 4, 0, 1]\n",
    "]).T\n",
    "\n",
    "T = np.array([\n",
    "    [1, 2, 2, 2],\n",
    "    [0, 0, 1, 2]\n",
    "]).T"
   ]
  },
  {
   "cell_type": "code",
   "execution_count": 16,
   "metadata": {},
   "outputs": [
    {
     "name": "stdout",
     "output_type": "stream",
     "text": [
      "[[4 0 1]\n",
      " [3 4 2]\n",
      " [6 0 3]\n",
      " [2 1 4]]\n",
      "\n",
      "[[1 0 1]\n",
      " [2 0 2]\n",
      " [2 1 3]\n",
      " [2 2 4]]\n"
     ]
    }
   ],
   "source": [
    "Sv = np.concatenate((S, v), axis=1)\n",
    "Tv = np.concatenate((T, v), axis=1)\n",
    "\n",
    "print(Sv, end='\\n\\n')\n",
    "print(Tv)"
   ]
  },
  {
   "cell_type": "code",
   "execution_count": 19,
   "metadata": {},
   "outputs": [
    {
     "name": "stdout",
     "output_type": "stream",
     "text": [
      "Rank of S : 2\n",
      "Rank of T : 2\n"
     ]
    }
   ],
   "source": [
    "print(f'Rank of S : {np.linalg.matrix_rank(S)}')\n",
    "print(f'Rank of T : {np.linalg.matrix_rank(T)}')"
   ]
  },
  {
   "cell_type": "code",
   "execution_count": 18,
   "metadata": {},
   "outputs": [
    {
     "name": "stdout",
     "output_type": "stream",
     "text": [
      "Rank of Sv : 3\n",
      "Rank of Tv : 2\n"
     ]
    }
   ],
   "source": [
    "print(f'Rank of Sv : {np.linalg.matrix_rank(Sv)}')\n",
    "print(f'Rank of Tv : {np.linalg.matrix_rank(Tv)}')"
   ]
  }
 ],
 "metadata": {
  "interpreter": {
   "hash": "293c111297a61481508202fcd690d673b0775ece2d2d867b62b8842b676a9a30"
  },
  "kernelspec": {
   "display_name": "Python 3.8.8 64-bit ('base': conda)",
   "language": "python",
   "name": "python3"
  },
  "language_info": {
   "codemirror_mode": {
    "name": "ipython",
    "version": 3
   },
   "file_extension": ".py",
   "mimetype": "text/x-python",
   "name": "python",
   "nbconvert_exporter": "python",
   "pygments_lexer": "ipython3",
   "version": "3.8.8"
  },
  "orig_nbformat": 4
 },
 "nbformat": 4,
 "nbformat_minor": 2
}
